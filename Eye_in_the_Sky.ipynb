{
 "cells": [
  {
   "cell_type": "code",
   "execution_count": 1,
   "metadata": {},
   "outputs": [
    {
     "ename": "ModuleNotFoundError",
     "evalue": "No module named 'skimage'",
     "output_type": "error",
     "traceback": [
      "\u001b[0;31m---------------------------------------------------------------------------\u001b[0m",
      "\u001b[0;31mModuleNotFoundError\u001b[0m                       Traceback (most recent call last)",
      "\u001b[0;32m<ipython-input-1-3f2a140cc181>\u001b[0m in \u001b[0;36m<module>\u001b[0;34m()\u001b[0m\n\u001b[1;32m      5\u001b[0m \u001b[0;32mimport\u001b[0m \u001b[0mos\u001b[0m\u001b[0;34m\u001b[0m\u001b[0m\n\u001b[1;32m      6\u001b[0m \u001b[0;32mimport\u001b[0m \u001b[0mmath\u001b[0m\u001b[0;34m\u001b[0m\u001b[0m\n\u001b[0;32m----> 7\u001b[0;31m \u001b[0;32mimport\u001b[0m \u001b[0mskimage\u001b[0m\u001b[0;34m.\u001b[0m\u001b[0mio\u001b[0m \u001b[0;32mas\u001b[0m \u001b[0mio\u001b[0m\u001b[0;34m\u001b[0m\u001b[0m\n\u001b[0m\u001b[1;32m      8\u001b[0m \u001b[0;32mimport\u001b[0m \u001b[0mskimage\u001b[0m\u001b[0;34m.\u001b[0m\u001b[0mtransform\u001b[0m \u001b[0;32mas\u001b[0m \u001b[0mtrans\u001b[0m\u001b[0;34m\u001b[0m\u001b[0m\n\u001b[1;32m      9\u001b[0m \u001b[0;32mfrom\u001b[0m \u001b[0mkeras\u001b[0m\u001b[0;34m.\u001b[0m\u001b[0mmodels\u001b[0m \u001b[0;32mimport\u001b[0m \u001b[0;34m*\u001b[0m\u001b[0;34m\u001b[0m\u001b[0m\n",
      "\u001b[0;31mModuleNotFoundError\u001b[0m: No module named 'skimage'"
     ]
    }
   ],
   "source": [
    "%matplotlib inline\n",
    "import numpy as np\n",
    "import matplotlib.pyplot as plt\n",
    "import matplotlib.image as mpimg\n",
    "import os\n",
    "import math\n",
    "import skimage.io as io\n",
    "import skimage.transform as trans\n",
    "from keras.models import *\n",
    "from keras.layers import *\n",
    "from keras.optimizers import *\n",
    "from keras.callbacks import ModelCheckpoint, LearningRateScheduler\n",
    "from keras import backend as keras\n",
    "\n",
    "\n",
    "def unet(input_shape):\n",
    "    inputs =Input(input_shape)\n",
    "    conv1 = Conv2D(128, 3, activation = 'relu', padding = 'same', kernel_initializer = 'he_normal')(inputs)\n",
    "    conv2 = Conv2D(256, 3, activation = 'relu', padding = 'same', kernel_initializer = 'he_normal')(conv1)\n",
    "    conv3 = Conv2D(256, 3, activation = 'relu', padding = 'same', kernel_initializer = 'he_normal')(conv2)\n",
    "    conv4 = Conv2D(512, 3, activation = 'relu', padding = 'same', kernel_initializer = 'he_normal')(conv3)\n",
    "    conv5 = Conv2D(512, 3, activation = 'relu', padding = 'same', kernel_initializer = 'he_normal')(conv4)\n",
    "    conv6 = Conv2D(512, 3, activation = 'relu', padding = 'same', kernel_initializer = 'he_normal')(conv5)\n",
    "    conv7 = Conv2D(256, 3, activation = 'relu', padding = 'same', kernel_initializer = 'he_normal')(conv6)\n",
    "    conv8 = Conv2D(256, 3, activation = 'relu', padding = 'same', kernel_initializer = 'he_normal')(conv7)\n",
    "    conv9 = Conv2D(128, 3, activation = 'relu', padding = 'same', kernel_initializer = 'he_normal')(conv8)\n",
    "    conv10 = Conv2D(3, 3, activation = 'relu', padding = 'same', kernel_initializer = 'he_normal')(conv9)\n",
    "    model = Model(input = inputs, output = conv10, name = 'Eye_Sky')\n",
    "\n",
    "    \n",
    "\n",
    "#     model.compile(optimizer = Adam(lr = 1e-4), loss = 'mean_squared_error', metrics = ['accuracy'])\n",
    "    \n",
    "#     model.summary()\n",
    "\n",
    "    return model"
   ]
  },
  {
   "cell_type": "code",
   "execution_count": 3,
   "metadata": {},
   "outputs": [],
   "source": [
    "def create_dataset(n):\n",
    "    images_input = []\n",
    "    images_output = []\n",
    "    max_height = 1696\n",
    "    max_width = 1696\n",
    "#     for i in range(n):\n",
    "#         i=i+1\n",
    "#         inp ='./Input/'+str(i)+'.tif'\n",
    "#         inp = io.imread(inp)\n",
    "#         x,y,c = inp.shape\n",
    "#         if x>max_height:\n",
    "#             max_height = x\n",
    "#             max_width = y\n",
    "    for i in range(n):\n",
    "            i=i+1\n",
    "            inp ='./Input/'+str(i)+'.tif'\n",
    "            out ='./Output/'+str(i)+'.tif'\n",
    "            inp = io.imread(inp)\n",
    "            out = io.imread(out)\n",
    "            x,y,c = inp.shape\n",
    "            pad_height_1 = (int)(math.ceil((max_height-x)/2))\n",
    "            pad_height_2 = (int)(math.floor((max_height-x)/2))\n",
    "            pad_width_1 = (int)(math.ceil((max_width-y)/2))\n",
    "            pad_width_2 = (int)(math.floor((max_width-y)/2))\n",
    "            inp = np.pad(inp,((pad_height_1,pad_height_2),(pad_width_1,pad_width_2),(0,0)),'constant', constant_values = (0))\n",
    "            out = np.pad(out,((pad_height_1,pad_height_2),(pad_width_1,pad_width_2),(0,0)),'constant', constant_values = (0))\n",
    "#             print(inp.shape)\n",
    "#             print(out.shape)\n",
    "            images_input.append(inp)\n",
    "            images_output.append(out)\n",
    "            X_train = np.array(images_input)\n",
    "            Y_train = np.array(images_output)\n",
    "#     print(X_train.shape)\n",
    "#     print(Y_train.shape)\n",
    "    return X_train, Y_train, max_height, max_width"
   ]
  },
  {
   "cell_type": "code",
   "execution_count": 4,
   "metadata": {},
   "outputs": [],
   "source": [
    "X_train, Y_train, m_h, m_w = create_dataset(1)"
   ]
  },
  {
   "cell_type": "code",
   "execution_count": null,
   "metadata": {},
   "outputs": [
    {
     "name": "stdout",
     "output_type": "stream",
     "text": [
      "(?, 1696, 1696, 64)\n",
      "(?, 848, 848, 64)\n",
      "(?, 848, 848, 128)\n",
      "(?, 424, 424, 128)\n",
      "(?, 424, 424, 256)\n",
      "(?, 212, 212, 256)\n",
      "(?, 212, 212, 512)\n",
      "(?, 212, 212, 512)\n",
      "(?, 106, 106, 512)\n",
      "(?, 106, 106, 1024)\n",
      "(?, 212, 212, 512)\n"
     ]
    },
    {
     "name": "stderr",
     "output_type": "stream",
     "text": [
      "/home/vatsalya/.local/lib/python3.6/site-packages/ipykernel_launcher.py:69: UserWarning: Update your `Model` call to the Keras 2 API: `Model(name=\"Eye_Sky\", inputs=Tensor(\"in..., outputs=Tensor(\"co...)`\n"
     ]
    },
    {
     "name": "stdout",
     "output_type": "stream",
     "text": [
      "Epoch 1/10\n"
     ]
    }
   ],
   "source": [
    "eye = unet((m_h,m_w,4))\n",
    "eye.compile(Adam(lr = 10e-4), loss = \"mean_squared_error\", metrics = [\"accuracy\"])\n",
    "eye.fit(x = X_train, y = Y_train, epochs = 10, batch_size = 12)"
   ]
  },
  {
   "cell_type": "code",
   "execution_count": null,
   "metadata": {},
   "outputs": [],
   "source": []
  }
 ],
 "metadata": {
  "kernelspec": {
   "display_name": "Python 3",
   "language": "python",
   "name": "python3"
  },
  "language_info": {
   "codemirror_mode": {
    "name": "ipython",
    "version": 3
   },
   "file_extension": ".py",
   "mimetype": "text/x-python",
   "name": "python",
   "nbconvert_exporter": "python",
   "pygments_lexer": "ipython3",
   "version": "3.6.2"
  }
 },
 "nbformat": 4,
 "nbformat_minor": 2
}
